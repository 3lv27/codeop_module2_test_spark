{
 "cells": [
  {
   "cell_type": "code",
   "execution_count": null,
   "metadata": {
    "application/vnd.databricks.v1+cell": {
     "inputWidgets": {},
     "nuid": "23c30309-57ca-4c45-96d3-283b5813e3ef",
     "showTitle": false,
     "title": ""
    }
   },
   "outputs": [],
   "source": [
    "from pyspark.sql import functions as func\n",
    "from pyspark.sql import Window\n",
    "from pyspark.sql.types import StructType, StructField, StringType, IntegerType"
   ]
  },
  {
   "cell_type": "markdown",
   "metadata": {
    "application/vnd.databricks.v1+cell": {
     "inputWidgets": {},
     "nuid": "a1cdbb86-23c8-4fd7-98f0-e5c14a385530",
     "showTitle": false,
     "title": ""
    }
   },
   "source": [
    "# Apache Spark Test - REACT - Module 2 - Data Engineering"
   ]
  },
  {
   "cell_type": "code",
   "execution_count": null,
   "metadata": {
    "application/vnd.databricks.v1+cell": {
     "inputWidgets": {},
     "nuid": "816ec798-4510-44c0-b7a0-9637a8d18a96",
     "showTitle": false,
     "title": ""
    }
   },
   "outputs": [],
   "source": [
    "file_type = 'csv'\n",
    "first_row_is_header = True\n",
    "file_location = 's3://codeop-react/ds/datasets/exam/202208/bank.csv'\n",
    "\n",
    "df_noschema = spark.read.format(file_type) \\\n",
    "  .option(\"header\", first_row_is_header) \\\n",
    "  .load(file_location)\n",
    "\n",
    "display(df_noschema)"
   ]
  },
  {
   "cell_type": "markdown",
   "metadata": {
    "application/vnd.databricks.v1+cell": {
     "inputWidgets": {},
     "nuid": "aca43e37-2b7f-4409-a143-50b31c17a6e8",
     "showTitle": false,
     "title": ""
    }
   },
   "source": [
    "1 - Print the schema of the dataframe (0.25p)"
   ]
  },
  {
   "cell_type": "code",
   "execution_count": null,
   "metadata": {
    "application/vnd.databricks.v1+cell": {
     "inputWidgets": {},
     "nuid": "a629eeb2-281a-46c3-9393-f7df5540c71d",
     "showTitle": false,
     "title": ""
    }
   },
   "outputs": [],
   "source": []
  },
  {
   "cell_type": "markdown",
   "metadata": {
    "application/vnd.databricks.v1+cell": {
     "inputWidgets": {},
     "nuid": "4151156c-89b3-454d-bec8-c21cc93aeb2f",
     "showTitle": false,
     "title": ""
    }
   },
   "source": [
    "2 - Count the total numbers of rows of the dataset (0.25p)"
   ]
  },
  {
   "cell_type": "code",
   "execution_count": null,
   "metadata": {
    "application/vnd.databricks.v1+cell": {
     "inputWidgets": {},
     "nuid": "0cf707f4-a8c4-46d7-a8f4-991c47ced1e0",
     "showTitle": false,
     "title": ""
    }
   },
   "outputs": [],
   "source": []
  },
  {
   "cell_type": "markdown",
   "metadata": {
    "application/vnd.databricks.v1+cell": {
     "inputWidgets": {},
     "nuid": "7e6f18fa-92d1-479f-b14b-53c747dfa8da",
     "showTitle": false,
     "title": ""
    }
   },
   "source": [
    "result: 11162"
   ]
  },
  {
   "cell_type": "markdown",
   "metadata": {
    "application/vnd.databricks.v1+cell": {
     "inputWidgets": {},
     "nuid": "0c29cab9-16d1-483b-a1a0-09aec7aee3fd",
     "showTitle": false,
     "title": ""
    }
   },
   "source": [
    "3 - Read the csv again but this time define a schema, apply it and print the schema again (0.5p)"
   ]
  },
  {
   "cell_type": "code",
   "execution_count": null,
   "metadata": {
    "application/vnd.databricks.v1+cell": {
     "inputWidgets": {},
     "nuid": "3c03c08d-7bf6-4222-a3bf-4736af175167",
     "showTitle": false,
     "title": ""
    }
   },
   "outputs": [],
   "source": [
    "schema = "
   ]
  },
  {
   "cell_type": "code",
   "execution_count": null,
   "metadata": {
    "application/vnd.databricks.v1+cell": {
     "inputWidgets": {},
     "nuid": "7fae6486-e7c4-49a0-a689-2ce2c0368a58",
     "showTitle": false,
     "title": ""
    }
   },
   "outputs": [],
   "source": []
  },
  {
   "cell_type": "markdown",
   "metadata": {
    "application/vnd.databricks.v1+cell": {
     "inputWidgets": {},
     "nuid": "abdcfa10-b0ca-4abb-8efe-ebf1a1ec243c",
     "showTitle": false,
     "title": ""
    }
   },
   "source": [
    "4 - Count the number of differents types of jobs (0.5p)"
   ]
  },
  {
   "cell_type": "code",
   "execution_count": null,
   "metadata": {
    "application/vnd.databricks.v1+cell": {
     "inputWidgets": {},
     "nuid": "ffa0bac2-68b6-4d32-816c-4762948e6a88",
     "showTitle": false,
     "title": ""
    }
   },
   "outputs": [],
   "source": []
  },
  {
   "cell_type": "markdown",
   "metadata": {
    "application/vnd.databricks.v1+cell": {
     "inputWidgets": {},
     "nuid": "43a8d147-230d-4cdd-97b8-d70d99fa5c4a",
     "showTitle": false,
     "title": ""
    }
   },
   "source": [
    "result: 12"
   ]
  },
  {
   "cell_type": "markdown",
   "metadata": {
    "application/vnd.databricks.v1+cell": {
     "inputWidgets": {},
     "nuid": "a4753c00-abd0-4dff-8781-621e8ffbc1b7",
     "showTitle": false,
     "title": ""
    }
   },
   "source": [
    "5 - Show the total number of people by type of job in descending order (0.5p)"
   ]
  },
  {
   "cell_type": "code",
   "execution_count": null,
   "metadata": {
    "application/vnd.databricks.v1+cell": {
     "inputWidgets": {},
     "nuid": "a02f72a0-0eac-4109-a0ae-0b7c92dd02e4",
     "showTitle": false,
     "title": ""
    }
   },
   "outputs": [],
   "source": []
  },
  {
   "cell_type": "markdown",
   "metadata": {
    "application/vnd.databricks.v1+cell": {
     "inputWidgets": {},
     "nuid": "789f0d29-6695-4873-94af-7baaa86dbcae",
     "showTitle": false,
     "title": ""
    }
   },
   "source": [
    "result:\n",
    "\n",
    "|          job|count|\n",
    "|-------------|-----|\n",
    "|   management| 2566|\n",
    "|  blue-collar| 1944|\n",
    "|   technician| 1823|\n",
    "|       admin.| 1334|\n",
    "|     services|  923|\n",
    "|      retired|  778|\n",
    "|self-employed|  405|\n",
    "|      student|  360|\n",
    "|   unemployed|  357|\n",
    "| entrepreneur|  328|\n",
    "|    housemaid|  274|\n",
    "|      unknown|   70|"
   ]
  },
  {
   "cell_type": "markdown",
   "metadata": {
    "application/vnd.databricks.v1+cell": {
     "inputWidgets": {},
     "nuid": "20f3991d-c145-40a6-bd33-d7897b7d1e7c",
     "showTitle": false,
     "title": ""
    }
   },
   "source": [
    "6 - Show the different types of marital status (0.5p)"
   ]
  },
  {
   "cell_type": "code",
   "execution_count": null,
   "metadata": {
    "application/vnd.databricks.v1+cell": {
     "inputWidgets": {},
     "nuid": "855b3e87-9644-4e84-bab5-e7960b5b4590",
     "showTitle": false,
     "title": ""
    }
   },
   "outputs": [],
   "source": []
  },
  {
   "cell_type": "markdown",
   "metadata": {
    "application/vnd.databricks.v1+cell": {
     "inputWidgets": {},
     "nuid": "f73481ba-4b87-48b6-a5c6-a658a0664bba",
     "showTitle": false,
     "title": ""
    }
   },
   "source": [
    "result:\n",
    "\n",
    "| marital|\n",
    "|--------|\n",
    "|divorced|\n",
    "| married|\n",
    "|  single|"
   ]
  },
  {
   "cell_type": "markdown",
   "metadata": {
    "application/vnd.databricks.v1+cell": {
     "inputWidgets": {},
     "nuid": "c6c47e9c-e9ec-4c6c-844c-fa02ecef7390",
     "showTitle": false,
     "title": ""
    }
   },
   "source": [
    "7 - Which is the job type that presents the highest number of married people? (1p)"
   ]
  },
  {
   "cell_type": "code",
   "execution_count": null,
   "metadata": {
    "application/vnd.databricks.v1+cell": {
     "inputWidgets": {},
     "nuid": "4c013996-5924-411c-add2-78f67c7c17b5",
     "showTitle": false,
     "title": ""
    }
   },
   "outputs": [],
   "source": []
  },
  {
   "cell_type": "markdown",
   "metadata": {
    "application/vnd.databricks.v1+cell": {
     "inputWidgets": {},
     "nuid": "403c7a7a-1633-4831-818c-9d7321838f57",
     "showTitle": false,
     "title": ""
    }
   },
   "source": [
    "result:\n",
    "\n",
    "|       job|count|\n",
    "|----------|-----|\n",
    "|management| 1428|"
   ]
  },
  {
   "cell_type": "markdown",
   "metadata": {
    "application/vnd.databricks.v1+cell": {
     "inputWidgets": {},
     "nuid": "b52798d2-0426-4182-995f-e112be3aada3",
     "showTitle": false,
     "title": ""
    }
   },
   "source": [
    "8 - Which is the job type that presents the smallest single marital status number of people? (0.5p)"
   ]
  },
  {
   "cell_type": "code",
   "execution_count": null,
   "metadata": {
    "application/vnd.databricks.v1+cell": {
     "inputWidgets": {},
     "nuid": "a1a64391-ed82-4f72-b65d-dc4da437d870",
     "showTitle": false,
     "title": ""
    }
   },
   "outputs": [],
   "source": []
  },
  {
   "cell_type": "markdown",
   "metadata": {
    "application/vnd.databricks.v1+cell": {
     "inputWidgets": {},
     "nuid": "d0167a9c-7692-48eb-b4bc-e633c361aaf9",
     "showTitle": false,
     "title": ""
    }
   },
   "source": [
    "|    job|count|\n",
    "|-------|-----|\n",
    "|unknown|   19|"
   ]
  },
  {
   "cell_type": "markdown",
   "metadata": {
    "application/vnd.databricks.v1+cell": {
     "inputWidgets": {},
     "nuid": "30a7d81c-8943-4486-87e8-10a7ba08e13b",
     "showTitle": false,
     "title": ""
    }
   },
   "source": [
    "9 - How many married students are in the dataset? (0.5p)"
   ]
  },
  {
   "cell_type": "code",
   "execution_count": null,
   "metadata": {
    "application/vnd.databricks.v1+cell": {
     "inputWidgets": {},
     "nuid": "8fbdecd6-9e72-45ef-a37d-9cbd1d5d3265",
     "showTitle": false,
     "title": ""
    }
   },
   "outputs": [],
   "source": []
  },
  {
   "cell_type": "markdown",
   "metadata": {
    "application/vnd.databricks.v1+cell": {
     "inputWidgets": {},
     "nuid": "d8eda65a-b928-4fc4-93fb-2c220c874c33",
     "showTitle": false,
     "title": ""
    }
   },
   "source": [
    "result: 15"
   ]
  },
  {
   "cell_type": "markdown",
   "metadata": {
    "application/vnd.databricks.v1+cell": {
     "inputWidgets": {},
     "nuid": "7550b3a6-ea52-4954-9c21-8ff402f4b7ca",
     "showTitle": false,
     "title": ""
    }
   },
   "source": [
    "10 - Create a dataframe where we can see a matrix between marital status and jop type. Ordered by marital status descending (1p)"
   ]
  },
  {
   "cell_type": "code",
   "execution_count": null,
   "metadata": {
    "application/vnd.databricks.v1+cell": {
     "inputWidgets": {},
     "nuid": "650ff825-2cee-4af7-b8f0-8b3b6e151445",
     "showTitle": false,
     "title": ""
    }
   },
   "outputs": [],
   "source": []
  },
  {
   "cell_type": "markdown",
   "metadata": {
    "application/vnd.databricks.v1+cell": {
     "inputWidgets": {},
     "nuid": "59c119b0-def9-4b7e-9dc9-956034895458",
     "showTitle": false,
     "title": ""
    }
   },
   "source": [
    "result:\n",
    "\n",
    "|          job|divorced|married|single|\n",
    "|-------------|--------|-------|------|\n",
    "|   management|     288|   1428|   850|\n",
    "|   technician|     204|    930|   689|\n",
    "|       admin.|     182|    677|   475|\n",
    "|      retired|     171|    581|    26|\n",
    "|  blue-collar|     149|   1335|   460|\n",
    "|     services|     121|    504|   298|\n",
    "|   unemployed|      47|    186|   124|\n",
    "|    housemaid|      46|    190|    38|\n",
    "| entrepreneur|      42|    234|    52|\n",
    "|self-employed|      39|    222|   144|\n",
    "|      unknown|       2|     49|    19|\n",
    "|      student|       2|     15|   343|"
   ]
  },
  {
   "cell_type": "markdown",
   "metadata": {
    "application/vnd.databricks.v1+cell": {
     "inputWidgets": {},
     "nuid": "79f32949-17d0-4b10-9660-6fec43884f7f",
     "showTitle": false,
     "title": ""
    }
   },
   "source": [
    "11 - Show the total balance per type of job in ascending order. Rename the column as shown in the result (0.5p)"
   ]
  },
  {
   "cell_type": "code",
   "execution_count": null,
   "metadata": {
    "application/vnd.databricks.v1+cell": {
     "inputWidgets": {},
     "nuid": "96408356-dc67-487b-b245-81af4d007033",
     "showTitle": false,
     "title": ""
    }
   },
   "outputs": [],
   "source": []
  },
  {
   "cell_type": "markdown",
   "metadata": {
    "application/vnd.databricks.v1+cell": {
     "inputWidgets": {},
     "nuid": "761df427-860a-41a5-af18-5a0e653951c4",
     "showTitle": false,
     "title": ""
    }
   },
   "source": [
    "result:\n",
    "\n",
    "|          job|total_balance|\n",
    "|-------------|-------------|\n",
    "|      unknown|       136182|\n",
    "|    housemaid|       374328|\n",
    "|   unemployed|       469355|\n",
    "| entrepreneur|       531997|\n",
    "|      student|       540282|\n",
    "|self-employed|       755476|\n",
    "|     services|       997921|\n",
    "|       admin.|      1595286|\n",
    "|      retired|      1880621|\n",
    "|  blue-collar|      2340433|\n",
    "|   technician|      2837125|\n",
    "|   management|      4602541|"
   ]
  },
  {
   "cell_type": "markdown",
   "metadata": {
    "application/vnd.databricks.v1+cell": {
     "inputWidgets": {},
     "nuid": "5b44d120-1c58-4729-879d-550a4f5e4c58",
     "showTitle": false,
     "title": ""
    }
   },
   "source": [
    "12 - Calculate the divorce rate by job type and order the results descending (hint: you will need to create a dicotomical numerical column then use the mean function) (1.5p)"
   ]
  },
  {
   "cell_type": "code",
   "execution_count": null,
   "metadata": {
    "application/vnd.databricks.v1+cell": {
     "inputWidgets": {},
     "nuid": "6fb4d640-65ec-4d51-b4f6-55c21299c0ef",
     "showTitle": false,
     "title": ""
    }
   },
   "outputs": [],
   "source": []
  },
  {
   "cell_type": "markdown",
   "metadata": {
    "application/vnd.databricks.v1+cell": {
     "inputWidgets": {},
     "nuid": "18a13915-e98d-48e1-aac0-f632578f6afc",
     "showTitle": false,
     "title": ""
    }
   },
   "source": [
    "result:\n",
    "\n",
    "|          job|divorced_rate|\n",
    "|-------------|-------------|\n",
    "|      retired|         0.22|\n",
    "|    housemaid|         0.17|\n",
    "|       admin.|         0.14|\n",
    "| entrepreneur|         0.13|\n",
    "|   unemployed|         0.13|\n",
    "|     services|         0.13|\n",
    "|   technician|         0.11|\n",
    "|   management|         0.11|\n",
    "|self-employed|          0.1|\n",
    "|  blue-collar|         0.08|\n",
    "|      unknown|         0.03|\n",
    "|      student|         0.01|"
   ]
  },
  {
   "cell_type": "markdown",
   "metadata": {
    "application/vnd.databricks.v1+cell": {
     "inputWidgets": {},
     "nuid": "ebbff0cb-44e3-4931-9f2e-bc9f48d5503c",
     "showTitle": false,
     "title": ""
    }
   },
   "source": [
    "13 - Create a df with the average age by job type. Ordered descending by average age (0.5p)"
   ]
  },
  {
   "cell_type": "code",
   "execution_count": null,
   "metadata": {
    "application/vnd.databricks.v1+cell": {
     "inputWidgets": {},
     "nuid": "dce84fb3-a4cf-45d1-9de2-9dc3e3913138",
     "showTitle": false,
     "title": ""
    }
   },
   "outputs": [],
   "source": []
  },
  {
   "cell_type": "markdown",
   "metadata": {
    "application/vnd.databricks.v1+cell": {
     "inputWidgets": {},
     "nuid": "cd9aab5c-62d9-4c77-8508-17e0506248b4",
     "showTitle": false,
     "title": ""
    }
   },
   "source": [
    "|          job|age_avg|\n",
    "|-------------|-------|\n",
    "|      retired|  65.42|\n",
    "|    housemaid|  47.45|\n",
    "|      unknown|  46.86|\n",
    "| entrepreneur|  42.89|\n",
    "|   unemployed|   41.0|\n",
    "|   management|  40.22|\n",
    "|self-employed|  39.81|\n",
    "|  blue-collar|  39.51|\n",
    "|       admin.|  39.37|\n",
    "|   technician|   39.0|\n",
    "|     services|  38.14|\n",
    "|      student|   26.1|"
   ]
  },
  {
   "cell_type": "markdown",
   "metadata": {
    "application/vnd.databricks.v1+cell": {
     "inputWidgets": {},
     "nuid": "417a97a5-9cfd-4b35-950c-702fc101c510",
     "showTitle": false,
     "title": ""
    }
   },
   "source": [
    "14 - Merge the last two dataframes and show it as shown in the result section (descending divrorced rate order) (0.5p)"
   ]
  },
  {
   "cell_type": "code",
   "execution_count": null,
   "metadata": {
    "application/vnd.databricks.v1+cell": {
     "inputWidgets": {},
     "nuid": "3df7a260-bb62-4685-9d9f-cf8ff12f6c84",
     "showTitle": false,
     "title": ""
    }
   },
   "outputs": [],
   "source": []
  },
  {
   "cell_type": "markdown",
   "metadata": {
    "application/vnd.databricks.v1+cell": {
     "inputWidgets": {},
     "nuid": "0532c007-27e9-4088-9734-10b9db3f9453",
     "showTitle": false,
     "title": ""
    }
   },
   "source": [
    "result:\n",
    "\n",
    "|          job|divorced_rate|age_avg|\n",
    "|-------------|-------------|-------|\n",
    "|      retired|         0.22|  65.42|\n",
    "|    housemaid|         0.17|  47.45|\n",
    "|       admin.|         0.14|  39.37|\n",
    "| entrepreneur|         0.13|  42.89|\n",
    "|   unemployed|         0.13|   41.0|\n",
    "|     services|         0.13|  38.14|\n",
    "|   technician|         0.11|   39.0|\n",
    "|   management|         0.11|  40.22|\n",
    "|self-employed|          0.1|  39.81|\n",
    "|  blue-collar|         0.08|  39.51|\n",
    "|      unknown|         0.03|  46.86|\n",
    "|      student|         0.01|   26.1|"
   ]
  },
  {
   "cell_type": "markdown",
   "metadata": {
    "application/vnd.databricks.v1+cell": {
     "inputWidgets": {},
     "nuid": "1088f305-6afa-404a-a790-16fe48e01b4a",
     "showTitle": false,
     "title": ""
    }
   },
   "source": [
    "15 - Calculate the mean and the standard deviation over the age. (0.25p)"
   ]
  },
  {
   "cell_type": "code",
   "execution_count": null,
   "metadata": {
    "application/vnd.databricks.v1+cell": {
     "inputWidgets": {},
     "nuid": "af443af1-58b4-4e21-8844-d0dbb69d4138",
     "showTitle": false,
     "title": ""
    }
   },
   "outputs": [],
   "source": []
  },
  {
   "cell_type": "markdown",
   "metadata": {
    "application/vnd.databricks.v1+cell": {
     "inputWidgets": {},
     "nuid": "701989f7-218b-4093-8d02-2184727cf59a",
     "showTitle": false,
     "title": ""
    }
   },
   "source": [
    "result:\n",
    "\n",
    "|  stddev_samp(age)|          avg(age)|\n",
    "|------------------|------------------|\n",
    "|11.913369192215518|41.231947679627304|"
   ]
  },
  {
   "cell_type": "markdown",
   "metadata": {
    "application/vnd.databricks.v1+cell": {
     "inputWidgets": {},
     "nuid": "c1af5647-0758-41c8-bc67-10e04c71cd06",
     "showTitle": false,
     "title": ""
    }
   },
   "source": [
    "16 - Create a dense rank partitioned by job to know the ranking over balance (1p)"
   ]
  },
  {
   "cell_type": "code",
   "execution_count": null,
   "metadata": {
    "application/vnd.databricks.v1+cell": {
     "inputWidgets": {},
     "nuid": "8ad37d3c-52d6-4c0c-bb3b-a9189b414eb6",
     "showTitle": false,
     "title": ""
    }
   },
   "outputs": [],
   "source": []
  },
  {
   "cell_type": "markdown",
   "metadata": {
    "application/vnd.databricks.v1+cell": {
     "inputWidgets": {},
     "nuid": "66874268-7d8b-43d8-af70-f12522e16368",
     "showTitle": false,
     "title": ""
    }
   },
   "source": [
    "result:\n",
    "\n",
    "|age| marital|balance|   job|dense_rank|\n",
    "|---|--------|-------|------|----------|\n",
    "| 50| married|  -1415|admin.|         1|\n",
    "| 42| married|  -1386|admin.|         2|\n",
    "| 51| married|  -1137|admin.|         3|\n",
    "| 26|  single|   -930|admin.|         4|\n",
    "| 36|divorced|   -811|admin.|         5|\n",
    "| 40| married|   -666|admin.|         6|\n",
    "| 46|divorced|   -637|admin.|         7|\n",
    "| 30|  single|   -548|admin.|         8|\n",
    "| 52|  single|   -528|admin.|         9|\n",
    "| 46| married|   -522|admin.|        10|\n",
    "| 28|divorced|   -504|admin.|        11|\n",
    "| 29|  single|   -498|admin.|        12|\n",
    "| 35| married|   -488|admin.|        13|\n",
    "| 42| married|   -466|admin.|        14|\n",
    "| 52| married|   -462|admin.|        15|\n",
    "| 57|divorced|   -461|admin.|        16|\n",
    "| 60| married|   -444|admin.|        17|\n",
    "| 59|  single|   -423|admin.|        18|\n",
    "| 31|  single|   -422|admin.|        19|\n",
    "| 48|divorced|   -407|admin.|        20|"
   ]
  },
  {
   "cell_type": "code",
   "execution_count": null,
   "metadata": {
    "application/vnd.databricks.v1+cell": {
     "inputWidgets": {},
     "nuid": "3d4aea11-e949-4cb8-9ab3-b14f923b39b1",
     "showTitle": false,
     "title": ""
    }
   },
   "outputs": [],
   "source": []
  },
  {
   "cell_type": "code",
   "execution_count": null,
   "metadata": {
    "application/vnd.databricks.v1+cell": {
     "inputWidgets": {},
     "nuid": "94c5f6ac-a441-4d7d-b6fd-ecafe62c1c56",
     "showTitle": false,
     "title": ""
    }
   },
   "outputs": [],
   "source": []
  },
  {
   "cell_type": "code",
   "execution_count": null,
   "metadata": {
    "application/vnd.databricks.v1+cell": {
     "inputWidgets": {},
     "nuid": "7d3164b7-1153-4c92-a588-d5d95e7c1abc",
     "showTitle": false,
     "title": ""
    }
   },
   "outputs": [],
   "source": []
  }
 ],
 "metadata": {
  "application/vnd.databricks.v1+notebook": {
   "dashboards": [],
   "language": "python",
   "notebookMetadata": {
    "pythonIndentUnit": 4
   },
   "notebookName": "exam_test",
   "notebookOrigID": 2205684848188274,
   "widgets": {}
  },
  "kernelspec": {
   "display_name": "Python 3 (ipykernel)",
   "language": "python",
   "name": "python3"
  },
  "language_info": {
   "codemirror_mode": {
    "name": "ipython",
    "version": 3
   },
   "file_extension": ".py",
   "mimetype": "text/x-python",
   "name": "python",
   "nbconvert_exporter": "python",
   "pygments_lexer": "ipython3",
   "version": "3.9.5"
  }
 },
 "nbformat": 4,
 "nbformat_minor": 4
}
